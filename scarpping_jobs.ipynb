{
 "cells": [
  {
   "cell_type": "code",
   "execution_count": null,
   "id": "7eebb005",
   "metadata": {},
   "outputs": [],
   "source": [
    "# Scrapping data analyst jobs from a website"
   ]
  },
  {
   "cell_type": "code",
   "execution_count": null,
   "id": "326e3a1d",
   "metadata": {},
   "outputs": [],
   "source": [
    "# Scrapping data analyst jobs from a website\n",
    "from bs4 import BeautifulSoup\n",
    "import requests\n",
    "import time\n",
    "\n",
    "def find_job():\n",
    "    html_txt=requests.get('https://www.timesjobs.com/candidate/job-search.html?searchType=personalizedSearch&from=submit&txtKeywords=Data+Analyst&txtLocation=').text\n",
    "    soup=BeautifulSoup(html_txt,'lxml')\n",
    "    jobs=soup.find_all('li', class_='clearfix job-bx wht-shd-bx')\n",
    "    for index,job in enumerate(jobs):\n",
    "        job_name=job.find('h2').text.replace('\\n','')\n",
    "        company_name=job.find('h3', class_='joblist-comp-name').text.replace('\\n','')\n",
    "        key_skills=job.find('span', class_='srp-skills').text.replace(' ','').replace('\\n','')\n",
    "        exp=job.find('ul', class_='top-jd-dtl clearfix').find('li').text.split('l')[1]\n",
    "        loc=job.find('span').text\n",
    "        Post_date=job.find('span', class_='sim-posted').text.replace('\\n','')\n",
    "        href=job.find('h2').a['href']\n",
    "\n",
    "        if Post_date == 'Posted few days ago':\n",
    "            with open(f'C:/Users/USER/Desktop/Projects/Python/Web Scrapping Projects/{index}.txt','w') as f:\n",
    "                 f.write('''\n",
    "            Job Name : {}\\n\n",
    "            Company Name : {}\\n\n",
    "            Key Skills : {}\\n\n",
    "            Experience : {}\\n\n",
    "            Location : {}\\n\n",
    "            More Info : {}\\n\\n\n",
    "            ----------------------------------------------------'''.format(job_name,company_name.strip(),key_skills.strip(),exp,loc,href))\n",
    "\n",
    "    \n",
    "            \n",
    "if __name__=='__main__':\n",
    "    while True:\n",
    "        find_job\n",
    "        time.sleep(24*60*60)\n",
    "            \n",
    "          \n",
    "\n"
   ]
  },
  {
   "cell_type": "code",
   "execution_count": null,
   "id": "3c7955aa",
   "metadata": {},
   "outputs": [],
   "source": []
  }
 ],
 "metadata": {
  "kernelspec": {
   "display_name": "Python 3 (ipykernel)",
   "language": "python",
   "name": "python3"
  },
  "language_info": {
   "codemirror_mode": {
    "name": "ipython",
    "version": 3
   },
   "file_extension": ".py",
   "mimetype": "text/x-python",
   "name": "python",
   "nbconvert_exporter": "python",
   "pygments_lexer": "ipython3",
   "version": "3.9.7"
  }
 },
 "nbformat": 4,
 "nbformat_minor": 5
}
