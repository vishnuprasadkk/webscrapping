{
 "cells": [
  {
   "cell_type": "markdown",
   "id": "a242abdb",
   "metadata": {},
   "source": [
    "# This python script scrapes relevent images from the url \"https://en.wikipedia.org/wiki/United_Arab_Emirates\""
   ]
  },
  {
   "cell_type": "markdown",
   "id": "615e60b1",
   "metadata": {},
   "source": [
    "### Importing the relevent libraries"
   ]
  },
  {
   "cell_type": "code",
   "execution_count": 2,
   "id": "f5849375",
   "metadata": {},
   "outputs": [],
   "source": [
    "from bs4 import BeautifulSoup\n",
    "import requests"
   ]
  },
  {
   "cell_type": "markdown",
   "id": "c1a1a4a8",
   "metadata": {},
   "source": [
    "### Using requests.get to get the information of the url and storing it in a variable called html_script"
   ]
  },
  {
   "cell_type": "code",
   "execution_count": 3,
   "id": "b9f9bba1",
   "metadata": {},
   "outputs": [],
   "source": [
    "html_script=requests.get('https://en.wikipedia.org/wiki/United_Arab_Emirates').text\n",
    "\n",
    "# if .text is not used the the method will only return the html response code"
   ]
  },
  {
   "cell_type": "markdown",
   "id": "2f8ee6e3",
   "metadata": {},
   "source": [
    "### Using the BeautifulSoup method to parse the html data using lxml parser and storing it in a variable called soup"
   ]
  },
  {
   "cell_type": "code",
   "execution_count": 4,
   "id": "01baabb2",
   "metadata": {},
   "outputs": [],
   "source": [
    "soup=BeautifulSoup(html_script,'lxml')"
   ]
  },
  {
   "cell_type": "markdown",
   "id": "f01d7d05",
   "metadata": {},
   "source": [
    "### After inspecting the html source code it is found that all the images comes under the class \"thumbimage\". Using soup.select to select the relevent html code assosiated with the class \"thumbimage\"."
   ]
  },
  {
   "cell_type": "code",
   "execution_count": 6,
   "id": "f2163368",
   "metadata": {},
   "outputs": [],
   "source": [
    "lst=soup.select('.thumbimage')"
   ]
  },
  {
   "cell_type": "markdown",
   "id": "e73931b1",
   "metadata": {},
   "source": [
    "### The next few lines of code is responsible for getting the images and writing them into individual files. I was experiencing a KeyError in the middle so I used the try except method to over come the keyError."
   ]
  },
  {
   "cell_type": "code",
   "execution_count": 8,
   "id": "d1080b5e",
   "metadata": {},
   "outputs": [],
   "source": [
    "for index,item in enumerate(lst):\n",
    "    try:\n",
    "        image_link=requests.get('https:'+item['src'])\n",
    "        with open(f'{index}.jpg','wb') as f: #the files will be saved in the current working directory\n",
    "            f.write(image_link.content)\n",
    "    except KeyError:\n",
    "        continue"
   ]
  },
  {
   "cell_type": "code",
   "execution_count": null,
   "id": "76e1696f",
   "metadata": {},
   "outputs": [],
   "source": []
  }
 ],
 "metadata": {
  "kernelspec": {
   "display_name": "Python 3 (ipykernel)",
   "language": "python",
   "name": "python3"
  },
  "language_info": {
   "codemirror_mode": {
    "name": "ipython",
    "version": 3
   },
   "file_extension": ".py",
   "mimetype": "text/x-python",
   "name": "python",
   "nbconvert_exporter": "python",
   "pygments_lexer": "ipython3",
   "version": "3.9.7"
  }
 },
 "nbformat": 4,
 "nbformat_minor": 5
}
