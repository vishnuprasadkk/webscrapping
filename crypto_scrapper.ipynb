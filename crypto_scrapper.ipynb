{
 "cells": [
  {
   "cell_type": "markdown",
   "id": "6326c135",
   "metadata": {},
   "source": [
    "### Importing the relevant libraries"
   ]
  },
  {
   "cell_type": "code",
   "execution_count": 1,
   "id": "23c18fe0",
   "metadata": {},
   "outputs": [],
   "source": [
    "from bs4 import BeautifulSoup\n",
    "import requests\n",
    "import pandas as pd"
   ]
  },
  {
   "cell_type": "markdown",
   "id": "e2cef72c",
   "metadata": {},
   "source": [
    "### The data is scrapped from 'https://www.coingecko.com/' and it is then stored inside a Pandas DataFrame and then written into a csv file"
   ]
  },
  {
   "cell_type": "code",
   "execution_count": 7,
   "id": "13731b45",
   "metadata": {},
   "outputs": [
    {
     "name": "stdout",
     "output_type": "stream",
     "text": [
      "    Name Price in USD      Market Cap\n",
      "0    BTC     21339.67  407711229027.0\n",
      "1    ETH       1226.5  148882595067.0\n",
      "2   USDT          1.0   66968735886.0\n",
      "3   USDC          1.0   55967022842.0\n",
      "4    BNB       239.63   39129719489.0\n",
      "..   ...          ...             ...\n",
      "95  CELO     0.989565     440616244.0\n",
      "96   CEL         1.02     430605654.0\n",
      "97   HOT     0.002388     424446743.0\n",
      "98  KAVA         1.95     421477194.0\n",
      "99   OMI     0.001525     411186912.0\n",
      "\n",
      "[100 rows x 3 columns]\n"
     ]
    }
   ],
   "source": [
    "def crypto_scrapper():\n",
    "    html_script=requests.get('https://www.coingecko.com/').text\n",
    "    soup=BeautifulSoup(html_script,'lxml')\n",
    "    lst=soup.find_all('a',class_='d-lg-none font-bold tw-w-12')\n",
    "    rates=soup.find_all('td', class_='td-price price text-right pl-0')\n",
    "    caps=soup.find_all('td', class_='td-market_cap cap col-market cap-price text-right')\n",
    "    names=[]\n",
    "    prices=[]\n",
    "    market_cap=[]\n",
    "    for name in lst:\n",
    "        names.append(name.text.replace('\\n',''))\n",
    "    for rate in rates:\n",
    "        prices.append(rate.text.replace('\\n','').replace('$','').strip().replace(',',''))\n",
    "    for cap in caps:\n",
    "        market_cap.append(cap.text.replace('\\n','').replace('$','').strip().replace(',',''))\n",
    "    market_cap_float=list(map(float,market_cap))\n",
    "    price_float=list(map(float,prices))\n",
    "    crypto_frame=pd.DataFrame([names,price_float,market_cap_float])\n",
    "    crypto_frame_new=crypto_frame.transpose()\n",
    "    crypto_frame_new.columns=['Name','Price in USD','Market Cap']\n",
    "    crypto_frame_new.to_csv(\"crypto_data.csv\", index=False)\n",
    "    print(crypto_frame_new)\n",
    "\n",
    "\n",
    "crypto_scrapper()"
   ]
  },
  {
   "cell_type": "markdown",
   "id": "ef514fb8",
   "metadata": {},
   "source": [
    "### The data is stored in a csv file locally on the machine"
   ]
  },
  {
   "cell_type": "code",
   "execution_count": null,
   "id": "e69799d4",
   "metadata": {},
   "outputs": [],
   "source": []
  }
 ],
 "metadata": {
  "kernelspec": {
   "display_name": "Python 3 (ipykernel)",
   "language": "python",
   "name": "python3"
  },
  "language_info": {
   "codemirror_mode": {
    "name": "ipython",
    "version": 3
   },
   "file_extension": ".py",
   "mimetype": "text/x-python",
   "name": "python",
   "nbconvert_exporter": "python",
   "pygments_lexer": "ipython3",
   "version": "3.9.7"
  }
 },
 "nbformat": 4,
 "nbformat_minor": 5
}
