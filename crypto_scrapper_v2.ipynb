{
 "cells": [
  {
   "cell_type": "markdown",
   "id": "e1561ee4",
   "metadata": {},
   "source": [
    "### This is the second version of the crypto_scrapper. In this script I have added some extra lines of code that stores the crypto data inside a database"
   ]
  },
  {
   "cell_type": "markdown",
   "id": "9a321b96",
   "metadata": {},
   "source": [
    "#### Importing the relevant libraries"
   ]
  },
  {
   "cell_type": "code",
   "execution_count": 9,
   "id": "b7b88494",
   "metadata": {},
   "outputs": [],
   "source": [
    "from bs4 import BeautifulSoup\n",
    "import requests\n",
    "import pandas as pd\n",
    "import sqlite3\n",
    "from datetime import date,datetime"
   ]
  },
  {
   "cell_type": "markdown",
   "id": "19720b50",
   "metadata": {},
   "source": [
    "#### The data is scrapped from 'https://www.coingecko.com/' and it is then stored inside a Pandas DataFrame and then written into a csv file as well as database called crypto_data_test"
   ]
  },
  {
   "cell_type": "code",
   "execution_count": 10,
   "id": "cd957b1c",
   "metadata": {},
   "outputs": [],
   "source": [
    "def crypto_scrapper():\n",
    "    current_date=datetime.now()\n",
    "    html_script=requests.get('https://www.coingecko.com/').text\n",
    "    soup=BeautifulSoup(html_script,'lxml')\n",
    "    lst=soup.find_all('a',class_='d-lg-none font-bold tw-w-12')\n",
    "    rates=soup.find_all('td', class_='td-price price text-right pl-0')\n",
    "    caps=soup.find_all('td', class_='td-market_cap cap col-market cap-price text-right')\n",
    "    names=[]\n",
    "    prices=[]\n",
    "    market_cap=[]\n",
    "    dates=[]\n",
    "    for name in lst:\n",
    "        names.append(name.text.replace('\\n',''))\n",
    "        dates.append(current_date)\n",
    "    for rate in rates:\n",
    "        prices.append(rate.text.replace('\\n','').replace('$','').strip().replace(',',''))\n",
    "    for cap in caps:\n",
    "        market_cap.append(cap.text.replace('\\n','').replace('$','').strip().replace(',',''))\n",
    "    #since the market_cap and price variable is a string, we need to convert it into float\n",
    "    market_cap_float=list(map(float,market_cap))\n",
    "    price_float=list(map(float,prices))\n",
    "    crypto_frame=pd.DataFrame([dates,names,price_float,market_cap_float])\n",
    "    crypto_frame_new=crypto_frame.transpose()\n",
    "    crypto_frame_new.columns=['date','name','price_in_usd','market_cap']\n",
    "    crypto_frame_new.to_csv(f\"{date.today()}.csv\", index=False)\n",
    "    # storing data into a database\n",
    "    conn=sqlite3.connect('crypto_data_test.db')\n",
    "    crypto_frame_new.to_sql(name=\"crypto_data_table\",con=conn, if_exists=\"append\", index=False)\n",
    "    conn.commit()\n",
    "    conn.close()\n",
    "    \n",
    "\n",
    "    \n",
    "\n",
    "    \n",
    "crypto_scrapper()\n",
    "\n",
    "\n",
    "\n",
    "\n",
    "\n",
    "\n"
   ]
  },
  {
   "cell_type": "code",
   "execution_count": 17,
   "id": "8be82829",
   "metadata": {},
   "outputs": [],
   "source": [
    "\n",
    "    "
   ]
  },
  {
   "cell_type": "code",
   "execution_count": 18,
   "id": "3715a823",
   "metadata": {},
   "outputs": [],
   "source": []
  },
  {
   "cell_type": "code",
   "execution_count": null,
   "id": "71b5e9b1",
   "metadata": {},
   "outputs": [],
   "source": []
  }
 ],
 "metadata": {
  "kernelspec": {
   "display_name": "Python 3 (ipykernel)",
   "language": "python",
   "name": "python3"
  },
  "language_info": {
   "codemirror_mode": {
    "name": "ipython",
    "version": 3
   },
   "file_extension": ".py",
   "mimetype": "text/x-python",
   "name": "python",
   "nbconvert_exporter": "python",
   "pygments_lexer": "ipython3",
   "version": "3.9.7"
  }
 },
 "nbformat": 4,
 "nbformat_minor": 5
}
