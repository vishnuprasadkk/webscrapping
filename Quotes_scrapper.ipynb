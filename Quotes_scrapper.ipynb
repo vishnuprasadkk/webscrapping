{
 "cells": [
  {
   "cell_type": "markdown",
   "id": "ccfa67c6",
   "metadata": {},
   "source": [
    "### This is my solution for the webscrapping exercise in Jose Portilla's full python bootcamp on udemy"
   ]
  },
  {
   "cell_type": "markdown",
   "id": "ad3e4872",
   "metadata": {},
   "source": [
    "### The task here is to scarpe quotes from a website. This website is specifically designed to help people practice web scrapping"
   ]
  },
  {
   "cell_type": "markdown",
   "id": "504b2be6",
   "metadata": {},
   "source": [
    "#### importing the relevant librarires"
   ]
  },
  {
   "cell_type": "code",
   "execution_count": 1,
   "id": "208b2e1b",
   "metadata": {},
   "outputs": [],
   "source": [
    "from bs4 import BeautifulSoup\n",
    "import requests"
   ]
  },
  {
   "cell_type": "markdown",
   "id": "a335a833",
   "metadata": {},
   "source": [
    "#### The task here is to extract all the unique authors from the website"
   ]
  },
  {
   "cell_type": "code",
   "execution_count": 2,
   "id": "ae713375",
   "metadata": {},
   "outputs": [
    {
     "name": "stdout",
     "output_type": "stream",
     "text": [
      "{'Friedrich Nietzsche', 'Haruki Murakami', 'J.M. Barrie', 'Ralph Waldo Emerson', 'George Bernard Shaw', 'André Gide', 'Thomas A. Edison', 'Jim Henson', 'John Lennon', 'George Carlin', \"Madeleine L'Engle\", 'Pablo Neruda', 'Mother Teresa', 'W.C. Fields', 'E.E. Cummings', 'Dr. Seuss', 'Martin Luther King Jr.', 'J.R.R. Tolkien', 'Douglas Adams', 'William Nicholson', 'George R.R. Martin', 'Suzanne Collins', 'Albert Einstein', 'George Eliot', 'Steve Martin', 'Mark Twain', 'Ernest Hemingway', 'Harper Lee', 'J.K. Rowling', 'Charles M. Schulz', 'Allen Saunders', 'Bob Marley', 'Charles Bukowski', 'J.D. Salinger', 'Jane Austen', 'C.S. Lewis', 'Alfred Tennyson', 'Alexandre Dumas fils', 'Garrison Keillor', 'Jorge Luis Borges', 'Helen Keller', 'Marilyn Monroe', 'Khaled Hosseini', 'Elie Wiesel', 'Eleanor Roosevelt', 'Stephenie Meyer', 'Terry Pratchett', 'James Baldwin', 'Jimi Hendrix', 'Ayn Rand'}\n"
     ]
    }
   ],
   "source": [
    "authors=[]\n",
    "for i in range(1,10000000):\n",
    "        html_script=requests.get(f\"http://quotes.toscrape.com/page/{i}/\").text\n",
    "        if 'No quotes found!' in str(html_script):\n",
    "            break\n",
    "        else:\n",
    "            soup=BeautifulSoup(html_script,'lxml')\n",
    "            authors_lst=soup.select(\".author\")\n",
    "            for item in authors_lst:\n",
    "                authors.append(item.text)\n",
    "         \n",
    "    \n",
    "print(set(authors))"
   ]
  },
  {
   "cell_type": "code",
   "execution_count": null,
   "id": "868c3bf5",
   "metadata": {},
   "outputs": [],
   "source": []
  }
 ],
 "metadata": {
  "kernelspec": {
   "display_name": "Python 3 (ipykernel)",
   "language": "python",
   "name": "python3"
  },
  "language_info": {
   "codemirror_mode": {
    "name": "ipython",
    "version": 3
   },
   "file_extension": ".py",
   "mimetype": "text/x-python",
   "name": "python",
   "nbconvert_exporter": "python",
   "pygments_lexer": "ipython3",
   "version": "3.9.7"
  }
 },
 "nbformat": 4,
 "nbformat_minor": 5
}
