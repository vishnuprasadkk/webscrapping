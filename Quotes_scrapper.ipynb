{
 "cells": [
  {
   "cell_type": "markdown",
   "id": "ccfa67c6",
   "metadata": {},
   "source": [
    "### This is my solution for the webscrapping exercise in Jose Portilla's full python bootcamp on udemy"
   ]
  },
  {
   "cell_type": "markdown",
   "id": "ad3e4872",
   "metadata": {},
   "source": [
    "### The task here is to scarpe quotes from a website. This website is specifically designed to help people practice web scrapping"
   ]
  },
  {
   "cell_type": "markdown",
   "id": "504b2be6",
   "metadata": {},
   "source": [
    "#### importing the relevant librarires"
   ]
  },
  {
   "cell_type": "code",
   "execution_count": 3,
   "id": "208b2e1b",
   "metadata": {},
   "outputs": [],
   "source": [
    "from bs4 import BeautifulSoup\n",
    "import requests"
   ]
  },
  {
   "cell_type": "markdown",
   "id": "a335a833",
   "metadata": {},
   "source": [
    "#### The task here is to extract all the unique authors from the website"
   ]
  },
  {
   "cell_type": "code",
   "execution_count": 4,
   "id": "ae713375",
   "metadata": {},
   "outputs": [
    {
     "name": "stdout",
     "output_type": "stream",
     "text": [
      "{'Albert Einstein', 'Jim Henson', 'Charles M. Schulz', 'Ernest Hemingway', 'J.M. Barrie', 'Harper Lee', 'Bob Marley', 'George R.R. Martin', 'Terry Pratchett', 'E.E. Cummings', 'Dr. Seuss', 'Haruki Murakami', 'Ayn Rand', 'Stephenie Meyer', 'Thomas A. Edison', 'James Baldwin', 'George Bernard Shaw', 'Garrison Keillor', 'André Gide', 'Allen Saunders', 'Jorge Luis Borges', 'Alexandre Dumas fils', 'W.C. Fields', 'Khaled Hosseini', 'Jane Austen', 'Charles Bukowski', 'George Eliot', 'C.S. Lewis', 'J.R.R. Tolkien', 'Marilyn Monroe', 'Elie Wiesel', 'William Nicholson', 'Martin Luther King Jr.', 'Eleanor Roosevelt', 'Jimi Hendrix', 'John Lennon', 'Alfred Tennyson', 'J.K. Rowling', 'Douglas Adams', 'Mark Twain', \"Madeleine L'Engle\", 'J.D. Salinger', 'Pablo Neruda', 'Ralph Waldo Emerson', 'Helen Keller', 'Suzanne Collins', 'Mother Teresa', 'George Carlin', 'Steve Martin', 'Friedrich Nietzsche'}\n"
     ]
    }
   ],
   "source": [
    "authors=[]\n",
    "\n",
    "def quote_scrapper():\n",
    "    for i in range(1,10000000):\n",
    "            html_script=requests.get(f\"http://quotes.toscrape.com/page/{i}/\").text\n",
    "            if 'No quotes found!' in str(html_script):\n",
    "                break\n",
    "            else:\n",
    "                soup=BeautifulSoup(html_script,'lxml')\n",
    "                authors_lst=soup.select(\".author\")\n",
    "                for item in authors_lst:\n",
    "                    authors.append(item.text)\n",
    "\n",
    "\n",
    "    print(set(authors))\n",
    "    \n",
    "    \n",
    "quote_scrapper()"
   ]
  },
  {
   "cell_type": "code",
   "execution_count": null,
   "id": "868c3bf5",
   "metadata": {},
   "outputs": [],
   "source": []
  }
 ],
 "metadata": {
  "kernelspec": {
   "display_name": "Python 3 (ipykernel)",
   "language": "python",
   "name": "python3"
  },
  "language_info": {
   "codemirror_mode": {
    "name": "ipython",
    "version": 3
   },
   "file_extension": ".py",
   "mimetype": "text/x-python",
   "name": "python",
   "nbconvert_exporter": "python",
   "pygments_lexer": "ipython3",
   "version": "3.9.7"
  }
 },
 "nbformat": 4,
 "nbformat_minor": 5
}
